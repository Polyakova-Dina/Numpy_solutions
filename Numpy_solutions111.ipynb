{
  "nbformat": 4,
  "nbformat_minor": 0,
  "metadata": {
    "colab": {
      "provenance": [],
      "toc_visible": true,
      "authorship_tag": "ABX9TyPHaFqZywYCN0qfLWE5fSFM",
      "include_colab_link": true
    },
    "kernelspec": {
      "name": "python3",
      "display_name": "Python 3"
    },
    "language_info": {
      "name": "python"
    }
  },
  "cells": [
    {
      "cell_type": "markdown",
      "metadata": {
        "id": "view-in-github",
        "colab_type": "text"
      },
      "source": [
        "<a href=\"https://colab.research.google.com/github/Polyakova-Dina/Numpy_solutions/blob/main/Numpy_solutions111.ipynb\" target=\"_parent\"><img src=\"https://colab.research.google.com/assets/colab-badge.svg\" alt=\"Open In Colab\"/></a>"
      ]
    },
    {
      "cell_type": "code",
      "execution_count": null,
      "metadata": {
        "colab": {
          "base_uri": "https://localhost:8080/"
        },
        "id": "VrAlfaNW8SdK",
        "outputId": "51a89553-31ad-4750-b961-30fd81a2d40a"
      },
      "outputs": [
        {
          "output_type": "stream",
          "name": "stdout",
          "text": [
            "hi\n"
          ]
        }
      ],
      "source": [
        "print('hi')\n"
      ]
    },
    {
      "cell_type": "code",
      "source": [
        "#a. Импортируйте библиотеку NumPy\n",
        "import numpy as np"
      ],
      "metadata": {
        "id": "jDzEVxxG8lby"
      },
      "execution_count": null,
      "outputs": []
    },
    {
      "cell_type": "code",
      "source": [
        "#b. Создайте массив из 10 нулей\n",
        "import numpy as np\n",
        "array=np.zeros(10)\n",
        "print(\"Массив из 10 нулей:\")\n",
        "print(array)\n"
      ],
      "metadata": {
        "colab": {
          "base_uri": "https://localhost:8080/"
        },
        "id": "F0vm7xd288iL",
        "outputId": "118588b8-1b1d-4bc3-cc58-26a112a4dabb"
      },
      "execution_count": 4,
      "outputs": [
        {
          "output_type": "stream",
          "name": "stdout",
          "text": [
            "Массив из 10 нулей:\n",
            "[0. 0. 0. 0. 0. 0. 0. 0. 0. 0.]\n"
          ]
        }
      ]
    },
    {
      "cell_type": "code",
      "source": [
        "#c. Создать массив из 10 единиц\n",
        "import numpy as np\n",
        "array1=np.ones(10)\n",
        "print(\"Массив из 10 единиц:\")\n",
        "print(array1)"
      ],
      "metadata": {
        "colab": {
          "base_uri": "https://localhost:8080/"
        },
        "id": "DKqN50oF9Vd9",
        "outputId": "470b85d7-9662-4b2e-b719-95c897070868"
      },
      "execution_count": 5,
      "outputs": [
        {
          "output_type": "stream",
          "name": "stdout",
          "text": [
            "Массив из 10 единиц:\n",
            "[1. 1. 1. 1. 1. 1. 1. 1. 1. 1.]\n"
          ]
        }
      ]
    },
    {
      "cell_type": "code",
      "source": [
        "#d. Создать массив из 10 пятерок\n",
        "array=np.ones(10)*5\n",
        "print(\"Массив из 10 пятерок::\")\n",
        "print(array)"
      ],
      "metadata": {
        "colab": {
          "base_uri": "https://localhost:8080/"
        },
        "id": "H-I9tylw9psR",
        "outputId": "c9271964-d26b-4a68-c245-f5d8d4c9b105"
      },
      "execution_count": null,
      "outputs": [
        {
          "output_type": "stream",
          "name": "stdout",
          "text": [
            "Массив из 10 пятерок::\n",
            "[5. 5. 5. 5. 5. 5. 5. 5. 5. 5.]\n"
          ]
        }
      ]
    },
    {
      "cell_type": "code",
      "source": [
        "#e. Создать массив из целых чисел от 10 до 50\n",
        "arr = np.arange(10, 50, 1)\n",
        "print(arr)"
      ],
      "metadata": {
        "colab": {
          "base_uri": "https://localhost:8080/"
        },
        "id": "5_81TxgU98pY",
        "outputId": "54bfefae-d17e-44cc-acb4-ea07faa34ac9"
      },
      "execution_count": null,
      "outputs": [
        {
          "output_type": "stream",
          "name": "stdout",
          "text": [
            "[10 11 12 13 14 15 16 17 18 19 20 21 22 23 24 25 26 27 28 29 30 31 32 33\n",
            " 34 35 36 37 38 39 40 41 42 43 44 45 46 47 48 49]\n"
          ]
        }
      ]
    },
    {
      "cell_type": "code",
      "source": [
        "#f. Создать массив из четных чисел от 10 до 50\n",
        "arr = np.arange(10, 50, 2)\n",
        "print(arr)"
      ],
      "metadata": {
        "colab": {
          "base_uri": "https://localhost:8080/"
        },
        "id": "6E_8G9GG-vED",
        "outputId": "0be19574-e9fd-4c71-99b0-0766ef413a01"
      },
      "execution_count": null,
      "outputs": [
        {
          "output_type": "stream",
          "name": "stdout",
          "text": [
            "[10 12 14 16 18 20 22 24 26 28 30 32 34 36 38 40 42 44 46 48]\n"
          ]
        }
      ]
    },
    {
      "cell_type": "code",
      "source": [
        "#g. Создать матрицу 3х3 с числами от 0 до 8\n",
        "x=np.arange(9).reshape(3,3)\n",
        "print(x)"
      ],
      "metadata": {
        "colab": {
          "base_uri": "https://localhost:8080/"
        },
        "id": "nNLgIJyv_GmD",
        "outputId": "9d7bbda8-45f8-40c9-f6ab-838ff7aebf4b"
      },
      "execution_count": null,
      "outputs": [
        {
          "output_type": "stream",
          "name": "stdout",
          "text": [
            "[[0 1 2]\n",
            " [3 4 5]\n",
            " [6 7 8]]\n"
          ]
        }
      ]
    },
    {
      "cell_type": "code",
      "source": [
        "#h. Создать единичную матрицу 3x3\n",
        "Z = np.eye(3)\n",
        "print(Z)"
      ],
      "metadata": {
        "colab": {
          "base_uri": "https://localhost:8080/"
        },
        "id": "7Mjc3Fs2ANND",
        "outputId": "e30d887d-d950-480f-baf8-562b35c210c7"
      },
      "execution_count": null,
      "outputs": [
        {
          "output_type": "stream",
          "name": "stdout",
          "text": [
            "[[1. 0. 0.]\n",
            " [0. 1. 0.]\n",
            " [0. 0. 1.]]\n"
          ]
        }
      ]
    },
    {
      "cell_type": "code",
      "source": [
        "#i. Используйте NumPy для генерации случайного числа от 0 до 1\n",
        "rand_num = np.random.normal(0,1,1)\n",
        "print(\"Случайное число от 0 до 1:\")\n",
        "print(rand_num)"
      ],
      "metadata": {
        "colab": {
          "base_uri": "https://localhost:8080/"
        },
        "id": "xP6VsX_eAtOa",
        "outputId": "b98f35cc-997d-461b-ebb0-ae7d0943a46f"
      },
      "execution_count": null,
      "outputs": [
        {
          "output_type": "stream",
          "name": "stdout",
          "text": [
            "Случайное число от 0 до 1:\n",
            "[-0.03478508]\n"
          ]
        }
      ]
    },
    {
      "cell_type": "code",
      "source": [
        "#j. Используйте NumPy для генерации массива из 25 случайных чисел, взятых из стандартного нормального распределения\n",
        "rand_num = np.random.normal(0,1,25)\n",
        "print(rand_num)"
      ],
      "metadata": {
        "colab": {
          "base_uri": "https://localhost:8080/"
        },
        "id": "Y64nSlQ7BELo",
        "outputId": "437f59c0-e7fa-48fe-e5a3-857adc4d6a6e"
      },
      "execution_count": null,
      "outputs": [
        {
          "output_type": "stream",
          "name": "stdout",
          "text": [
            "[ 0.57512305  0.80136056  0.7061575   0.09392284 -1.05061701  1.13854098\n",
            "  0.81448425 -1.24718178  0.8639451   0.35407527 -0.66836849 -0.38086861\n",
            "  1.36675551 -1.36330485  0.46497815 -0.68120819  0.98278724  1.61657069\n",
            " -0.2532506   0.89433374 -0.51012569  0.44666949 -0.27136486  0.22053434\n",
            " -0.85803339]\n"
          ]
        }
      ]
    },
    {
      "cell_type": "code",
      "source": [
        "#k. Создайте следующую матрицу используя функции библиотеки NumPy\n",
        "a=np.arange(0.01, 1.01, 0.01).reshape(10,10)\n",
        "print(a)"
      ],
      "metadata": {
        "colab": {
          "base_uri": "https://localhost:8080/"
        },
        "id": "x0FgixOECwk_",
        "outputId": "9198cc1b-54a7-4fbc-e4b7-40b342a15346"
      },
      "execution_count": null,
      "outputs": [
        {
          "output_type": "stream",
          "name": "stdout",
          "text": [
            "[[0.01 0.02 0.03 0.04 0.05 0.06 0.07 0.08 0.09 0.1 ]\n",
            " [0.11 0.12 0.13 0.14 0.15 0.16 0.17 0.18 0.19 0.2 ]\n",
            " [0.21 0.22 0.23 0.24 0.25 0.26 0.27 0.28 0.29 0.3 ]\n",
            " [0.31 0.32 0.33 0.34 0.35 0.36 0.37 0.38 0.39 0.4 ]\n",
            " [0.41 0.42 0.43 0.44 0.45 0.46 0.47 0.48 0.49 0.5 ]\n",
            " [0.51 0.52 0.53 0.54 0.55 0.56 0.57 0.58 0.59 0.6 ]\n",
            " [0.61 0.62 0.63 0.64 0.65 0.66 0.67 0.68 0.69 0.7 ]\n",
            " [0.71 0.72 0.73 0.74 0.75 0.76 0.77 0.78 0.79 0.8 ]\n",
            " [0.81 0.82 0.83 0.84 0.85 0.86 0.87 0.88 0.89 0.9 ]\n",
            " [0.91 0.92 0.93 0.94 0.95 0.96 0.97 0.98 0.99 1.  ]]\n"
          ]
        }
      ]
    },
    {
      "cell_type": "code",
      "source": [
        "#l. Дана стартовая матрица (обязательно запустите код ниже в вашем решении!). Эта матрица будет использоваться в последующих задачах\n",
        "# это наша стартовая матрица\n",
        "mat = np.arange(1,26).reshape(5,5)\n",
        "print(mat)\n"
      ],
      "metadata": {
        "colab": {
          "base_uri": "https://localhost:8080/"
        },
        "id": "RLm_LOgTDlLD",
        "outputId": "55f76529-01d9-4d0d-d482-5be47b4f33bd"
      },
      "execution_count": null,
      "outputs": [
        {
          "output_type": "stream",
          "name": "stdout",
          "text": [
            "[[ 1  2  3  4  5]\n",
            " [ 6  7  8  9 10]\n",
            " [11 12 13 14 15]\n",
            " [16 17 18 19 20]\n",
            " [21 22 23 24 25]]\n"
          ]
        }
      ]
    },
    {
      "cell_type": "code",
      "source": [
        "#Необходимо написать код который вернет следующую матрицу из стартовой:\n",
        "b = mat[2:, 1:]\n",
        "print(b)"
      ],
      "metadata": {
        "colab": {
          "base_uri": "https://localhost:8080/"
        },
        "id": "MSx5ZfAGE504",
        "outputId": "75e42cc2-4aa7-4fec-c8de-4ed0f2ead293"
      },
      "execution_count": null,
      "outputs": [
        {
          "output_type": "stream",
          "name": "stdout",
          "text": [
            "[[12 13 14 15]\n",
            " [17 18 19 20]\n",
            " [22 23 24 25]]\n"
          ]
        }
      ]
    },
    {
      "cell_type": "code",
      "source": [
        "#m. Написать код обращения к элементу который вернет значение 20 из стартовой матрицы задачи l\n",
        "c = mat[3, 4]\n",
        "print(c)"
      ],
      "metadata": {
        "colab": {
          "base_uri": "https://localhost:8080/"
        },
        "id": "POgDC8dDMJ-x",
        "outputId": "55001481-fab7-453f-a71e-ca009ebcdabe"
      },
      "execution_count": null,
      "outputs": [
        {
          "output_type": "stream",
          "name": "stdout",
          "text": [
            "20\n"
          ]
        }
      ]
    },
    {
      "cell_type": "code",
      "source": [
        "#n. Написать код к стартовой матрице задачи l , который воспроизводит вывод, показанный ниже\n",
        "d = mat[1:4,1:2]\n",
        "print(d)"
      ],
      "metadata": {
        "colab": {
          "base_uri": "https://localhost:8080/"
        },
        "id": "UquADpQsNyHo",
        "outputId": "8cbf8820-c4a5-48d1-8887-6bc02d04c204"
      },
      "execution_count": null,
      "outputs": [
        {
          "output_type": "stream",
          "name": "stdout",
          "text": [
            "[[ 7]\n",
            " [12]\n",
            " [17]]\n"
          ]
        }
      ]
    },
    {
      "cell_type": "code",
      "source": [
        "#o. Написать код к стартовой матрице задачи l , который воспроизводит вывод, показанный ниже\n",
        "d = mat[4:5,:]\n",
        "print(d)"
      ],
      "metadata": {
        "colab": {
          "base_uri": "https://localhost:8080/"
        },
        "id": "99YqAFKHO9IO",
        "outputId": "fd7901dd-c6e6-45df-97ec-f0e1db5e8c42"
      },
      "execution_count": null,
      "outputs": [
        {
          "output_type": "stream",
          "name": "stdout",
          "text": [
            "[[21 22 23 24 25]]\n"
          ]
        }
      ]
    },
    {
      "cell_type": "code",
      "source": [
        "#p. Написать код к стартовой матрице задачи l , который воспроизводит вывод, показанный ниже\n",
        "d = mat[3:5,:]\n",
        "print(d)"
      ],
      "metadata": {
        "colab": {
          "base_uri": "https://localhost:8080/"
        },
        "id": "QSodmxzKPgNg",
        "outputId": "f5f53634-68a3-4e6c-e0b4-574bc82f4fad"
      },
      "execution_count": null,
      "outputs": [
        {
          "output_type": "stream",
          "name": "stdout",
          "text": [
            "[[16 17 18 19 20]\n",
            " [21 22 23 24 25]]\n"
          ]
        }
      ]
    },
    {
      "cell_type": "code",
      "source": [
        "#q. Получить сумму всех значений в стартовой матрице mat\n",
        "d=np.sum(mat)\n",
        "print(d)"
      ],
      "metadata": {
        "colab": {
          "base_uri": "https://localhost:8080/"
        },
        "id": "7zZOznN5P7_N",
        "outputId": "3d338bc7-dd09-454a-f427-b60d8dc494f5"
      },
      "execution_count": null,
      "outputs": [
        {
          "output_type": "stream",
          "name": "stdout",
          "text": [
            "325\n"
          ]
        }
      ]
    },
    {
      "cell_type": "code",
      "source": [
        "#r. Получить стандартное отклонение в стартовой матрице mat\n",
        "d=np.std(mat)\n",
        "print(d)"
      ],
      "metadata": {
        "colab": {
          "base_uri": "https://localhost:8080/"
        },
        "id": "-ANOPkO-ROvO",
        "outputId": "b1591d48-2d2d-4b94-ac57-cfc79b1ee396"
      },
      "execution_count": null,
      "outputs": [
        {
          "output_type": "stream",
          "name": "stdout",
          "text": [
            "7.211102550927978\n"
          ]
        }
      ]
    },
    {
      "cell_type": "code",
      "source": [
        "#s. Получить сумму значений в колонках в стартовой матрице mat\n",
        "sumR = mat.sum(axis=0)\n",
        "print(sumR)"
      ],
      "metadata": {
        "colab": {
          "base_uri": "https://localhost:8080/"
        },
        "id": "SWhJ1ejMRh8j",
        "outputId": "e5f2dd70-3e5f-4e60-90d0-f4db802ff0e6"
      },
      "execution_count": null,
      "outputs": [
        {
          "output_type": "stream",
          "name": "stdout",
          "text": [
            "[55 60 65 70 75]\n"
          ]
        }
      ]
    },
    {
      "cell_type": "code",
      "source": [],
      "metadata": {
        "id": "TWaCmg_h5vNI"
      },
      "execution_count": null,
      "outputs": []
    }
  ]
}